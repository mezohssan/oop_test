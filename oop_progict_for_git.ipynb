{
 "cells": [
  {
   "cell_type": "code",
   "execution_count": 1,
   "metadata": {},
   "outputs": [],
   "source": [
    "# class one \n",
    "#incabsolashan\n",
    "# polymor phisme here \n",
    "\n",
    "class shopes :\n",
    "    \n",
    "    def __init__(self,name,drodacts=\" \"):\n",
    "        self.name=name\n",
    "        self.drodacts=drodacts\n",
    "    \n",
    "    def show_drodacts (self):\n",
    "        c=1\n",
    "        for t in self.drodacts.keys() : # i have a proplem 'dictionary changed size during iteration'\n",
    "            \n",
    "            if self.drodacts[t][1] <= 0 :\n",
    "                \n",
    "                del self.drodacts [t]\n",
    "                \n",
    "                \n",
    "                #for t in self.drodacts.items() : # i tried to do that but it also was erorr\n",
    "            \n",
    "                   #if t[1][1] <= 0 :\n",
    "                \n",
    "                  #del self.drodacts [str(t[0])]\n",
    "                \n",
    "                \n",
    "            else:    \n",
    "                \n",
    "                print(f\"the prodact {c} is {t[0]} and the price is {t[1][0]} and we have {t[1][1]} unit\")\n",
    "                c+=1\n",
    "                \n",
    "    def add_prodact(self,new_prodact):\n",
    "        \n",
    "        self.drodacts.update(new_prodact)\n",
    "        print(\"Successful operation\")\n",
    "        \n",
    "\n",
    "                    \n",
    "                    \n",
    "                    \n",
    "                    \n",
    "                    \n"
   ]
  },
  {
   "cell_type": "code",
   "execution_count": 2,
   "metadata": {},
   "outputs": [],
   "source": [
    "#class two \n",
    "class custimar (shopes) :\n",
    "    def __init__(self,name,mony):\n",
    "        \n",
    "        self.name=name\n",
    "        self.__mony=mony\n",
    "    \n",
    "    \n",
    "    def bay (self,oop_shop,prodact,count):\n",
    "        \n",
    "        \n",
    "        if prodact in oop_shop.drodacts:  \n",
    "            \n",
    "            if count <= oop_shop.drodacts[prodact][1]:\n",
    "                \n",
    "                total_price=oop_shop.drodacts[prodact][0] * count \n",
    "                \n",
    "                if self.__mony >=total_price :\n",
    "                    \n",
    "                    oop_shop.drodacts[prodact][1] -= count \n",
    "                \n",
    "                    self.__mony-=total_price\n",
    "                    \n",
    "                    print(\"Successful operation\")\n",
    "                    \n",
    "                else:\n",
    "                    print(\"you do not have enough mony \")\n",
    "                \n",
    "            else :\n",
    "                print(f\"sory we do not have {count} we just have {oop_shop.drodacts[prodact][1]}\")\n",
    "        else:\n",
    "            print(f\"sory we do not have this prodact in {self.name} we tust have \")#the proplem i want to print the name of shop \n",
    "            oop_shop.show_drodacts()\n",
    "            \n",
    "            \n",
    "    def show_drodacts (self,oop):\n",
    "        oop.show_drodacts()\n",
    "        \n",
    "        \n",
    "    def get_mony (self) :\n",
    "        return self.__mony\n",
    "    \n",
    "    def set_mony (self,amount):\n",
    "        self.__mony +=amount\n",
    "        print(\"Successful operation\")\n",
    "            \n",
    "        \n",
    "    \n",
    "   \n",
    "    \n",
    "            \n",
    "    \n",
    "\n"
   ]
  },
  {
   "cell_type": "code",
   "execution_count": 3,
   "metadata": {},
   "outputs": [],
   "source": [
    "appel=shopes(\"appel\",{\"makpok\":[1200,0] , \"iphon 13\":[2500,3] ,\"iphon 12\":[1900,3] , \"iphon 11\":[1700,0]})\n",
    "samsong=shopes(\"samsong\",{\"phon s3\":[1000,5] , \"galaxi 9\":[1500,3] ,\"laptop\":[3900,3] , \"camira\":[700,3]})\n",
    "\n",
    "moaaz= custimar(\"moaaz\",10000)    "
   ]
  },
  {
   "cell_type": "code",
   "execution_count": 4,
   "metadata": {},
   "outputs": [
    {
     "name": "stdout",
     "output_type": "stream",
     "text": [
      "Successful operation\n"
     ]
    }
   ],
   "source": [
    "appel.add_prodact( {\"ais bods\":[1700,0]})"
   ]
  },
  {
   "cell_type": "code",
   "execution_count": 77,
   "metadata": {},
   "outputs": [
    {
     "ename": "RuntimeError",
     "evalue": "dictionary changed size during iteration",
     "output_type": "error",
     "traceback": [
      "\u001b[1;31m---------------------------------------------------------------------------\u001b[0m",
      "\u001b[1;31mRuntimeError\u001b[0m                              Traceback (most recent call last)",
      "\u001b[1;32m<ipython-input-77-eb79ba304e95>\u001b[0m in \u001b[0;36m<module>\u001b[1;34m\u001b[0m\n\u001b[1;32m----> 1\u001b[1;33m \u001b[0mappel\u001b[0m\u001b[1;33m.\u001b[0m\u001b[0mshow_drodacts\u001b[0m\u001b[1;33m(\u001b[0m\u001b[1;33m)\u001b[0m\u001b[1;33m\u001b[0m\u001b[1;33m\u001b[0m\u001b[0m\n\u001b[0m",
      "\u001b[1;32m<ipython-input-74-7ec2a92fb199>\u001b[0m in \u001b[0;36mshow_drodacts\u001b[1;34m(self)\u001b[0m\n\u001b[0;32m     10\u001b[0m     \u001b[1;32mdef\u001b[0m \u001b[0mshow_drodacts\u001b[0m \u001b[1;33m(\u001b[0m\u001b[0mself\u001b[0m\u001b[1;33m)\u001b[0m\u001b[1;33m:\u001b[0m\u001b[1;33m\u001b[0m\u001b[1;33m\u001b[0m\u001b[0m\n\u001b[0;32m     11\u001b[0m         \u001b[0mc\u001b[0m\u001b[1;33m=\u001b[0m\u001b[1;36m1\u001b[0m\u001b[1;33m\u001b[0m\u001b[1;33m\u001b[0m\u001b[0m\n\u001b[1;32m---> 12\u001b[1;33m         \u001b[1;32mfor\u001b[0m \u001b[0mt\u001b[0m \u001b[1;32min\u001b[0m \u001b[0mself\u001b[0m\u001b[1;33m.\u001b[0m\u001b[0mdrodacts\u001b[0m\u001b[1;33m.\u001b[0m\u001b[0mkeys\u001b[0m\u001b[1;33m(\u001b[0m\u001b[1;33m)\u001b[0m \u001b[1;33m:\u001b[0m \u001b[1;31m# i have a proplem 'dictionary changed size during iteration'\u001b[0m\u001b[1;33m\u001b[0m\u001b[1;33m\u001b[0m\u001b[0m\n\u001b[0m\u001b[0;32m     13\u001b[0m \u001b[1;33m\u001b[0m\u001b[0m\n\u001b[0;32m     14\u001b[0m             \u001b[1;32mif\u001b[0m \u001b[0mself\u001b[0m\u001b[1;33m.\u001b[0m\u001b[0mdrodacts\u001b[0m\u001b[1;33m[\u001b[0m\u001b[0mt\u001b[0m\u001b[1;33m]\u001b[0m\u001b[1;33m[\u001b[0m\u001b[1;36m1\u001b[0m\u001b[1;33m]\u001b[0m \u001b[1;33m<=\u001b[0m \u001b[1;36m0\u001b[0m \u001b[1;33m:\u001b[0m\u001b[1;33m\u001b[0m\u001b[1;33m\u001b[0m\u001b[0m\n",
      "\u001b[1;31mRuntimeError\u001b[0m: dictionary changed size during iteration"
     ]
    }
   ],
   "source": [
    "appel.show_drodacts()"
   ]
  },
  {
   "cell_type": "code",
   "execution_count": 5,
   "metadata": {},
   "outputs": [
    {
     "name": "stdout",
     "output_type": "stream",
     "text": [
      "Successful operation\n"
     ]
    }
   ],
   "source": [
    "moaaz.set_mony(1000)"
   ]
  },
  {
   "cell_type": "code",
   "execution_count": 6,
   "metadata": {},
   "outputs": [
    {
     "data": {
      "text/plain": [
       "11000"
      ]
     },
     "execution_count": 6,
     "metadata": {},
     "output_type": "execute_result"
    }
   ],
   "source": [
    "moaaz.get_mony()"
   ]
  },
  {
   "cell_type": "code",
   "execution_count": null,
   "metadata": {},
   "outputs": [],
   "source": []
  }
 ],
 "metadata": {
  "kernelspec": {
   "display_name": "Python 3",
   "language": "python",
   "name": "python3"
  },
  "language_info": {
   "codemirror_mode": {
    "name": "ipython",
    "version": 3
   },
   "file_extension": ".py",
   "mimetype": "text/x-python",
   "name": "python",
   "nbconvert_exporter": "python",
   "pygments_lexer": "ipython3",
   "version": "3.7.6"
  }
 },
tratatattghgsh
auldhwjkd
 "nbformat": 4,
 "nbformat_minor": 4
}
